{
 "cells": [
  {
   "cell_type": "code",
   "execution_count": 1,
   "metadata": {},
   "outputs": [],
   "source": [
    "import pandas as pd\n",
    "import pathlib\n",
    "from scripts.stat_utils import collect_study_stats, collect_databank_stats\n",
    "from scripts.io_utils import walk"
   ]
  },
  {
   "cell_type": "code",
   "execution_count": 2,
   "metadata": {},
   "outputs": [],
   "source": [
    "# Define study metadata directory\n",
    "studies_metadata_dir = pathlib.Path(\"../data/metadata\")\n",
    "\n",
    "# Collect metadata file paths\n",
    "metadata_files = list(walk(studies_metadata_dir))\n",
    "\n",
    "# Calculate statistics for each image attribute within each study\n",
    "all_results_list = list()\n",
    "for metadata_path in metadata_files:\n",
    "    collect_study_stats(metadata_path, all_results_list)\n",
    "\n",
    "stat_results_df = pd.DataFrame(\n",
    "    data=all_results_list,\n",
    "    columns=[\"Study_Name\", \"Attribute\", \"S\", \"H\", \"NME\", \"J\", \"E\", \"GC\"],\n",
    ")\n",
    "\n",
    "# Make directories\n",
    "stats_dir = pathlib.Path(\"../data/statistics\")\n",
    "pathlib.Path.mkdir(stats_dir, exist_ok=True)\n",
    "\n",
    "# Save individual stats as parquet file\n",
    "output_file = pathlib.Path(stats_dir, f\"individual_studies_diversity.parquet.gzip\")\n",
    "stat_results_df.to_parquet(output_file, compression=\"gzip\")"
   ]
  },
  {
   "cell_type": "code",
   "execution_count": 3,
   "metadata": {},
   "outputs": [],
   "source": [
    "# Collect databank stats\n",
    "databank_stats = collect_databank_stats(metadata_dir=studies_metadata_dir, na_cols=[\"pixel_size_x\", \"pizel_size_y\"])\n",
    "\n",
    "# Save databank stats as parquet file\n",
    "output_file = pathlib.Path(stats_dir, f\"databank_diversity.parquet.gzip\")\n",
    "databank_stats.to_parquet(output_file, compression=\"gzip\")"
   ]
  },
  {
   "cell_type": "code",
   "execution_count": 4,
   "metadata": {},
   "outputs": [
    {
     "name": "stdout",
     "output_type": "stream",
     "text": [
      "                              Study_Name       Attribute     S         H  NME  \\\n",
      "0  idr0080-way-perturbation_screenA_2701         well_id  6912  8.841014  1.0   \n",
      "1  idr0080-way-perturbation_screenA_2701  imaging_method     1  0.000000  NaN   \n",
      "2  idr0080-way-perturbation_screenA_2701        organism     1  0.000000  NaN   \n",
      "3  idr0080-way-perturbation_screenA_2701   organism_part     1  0.000000  NaN   \n",
      "4  idr0080-way-perturbation_screenA_2701       cell_line     3  1.098612  1.0   \n",
      "\n",
      "     J    E   GC  \n",
      "0  1.0  1.0  0.0  \n",
      "1  NaN  1.0  0.0  \n",
      "2  NaN  1.0  0.0  \n",
      "3  NaN  1.0  0.0  \n",
      "4  1.0  1.0  0.0  \n",
      "    Attribute      S          H       NME         J         E        GC\n",
      "0   screen_id      3   0.860492  0.812077  0.783253  0.674471  0.363842\n",
      "1  study_name      3   0.860492  0.812077  0.783253  0.674471  0.363842\n",
      "2    plate_id    334   5.494304  0.330586  0.945478  0.534196  0.371400\n",
      "3  plate_name    334   5.494304  0.330586  0.945478  0.534196  0.371400\n",
      "4     well_id  28320  10.251324  1.000000  1.000000  1.000000  0.000000\n"
     ]
    }
   ],
   "source": [
    "study_stats = pd.read_parquet(f\"{stats_dir}/individual_studies_diversity.parquet.gzip\")\n",
    "print(study_stats.head())\n",
    "\n",
    "databank_stats = pd.read_parquet(f\"{stats_dir}/databank_diversity.parquet.gzip\")\n",
    "print(databank_stats.head())"
   ]
  }
 ],
 "metadata": {
  "kernelspec": {
   "display_name": "Python 3.10.7 64-bit",
   "language": "python",
   "name": "python3"
  },
  "language_info": {
   "codemirror_mode": {
    "name": "ipython",
    "version": 3
   },
   "file_extension": ".py",
   "mimetype": "text/x-python",
   "name": "python",
   "nbconvert_exporter": "python",
   "pygments_lexer": "ipython3",
   "version": "3.10.7"
  },
  "orig_nbformat": 4,
  "vscode": {
   "interpreter": {
    "hash": "aee8b7b246df8f9039afb4144a1f6fd8d2ca17a180786b69acc140d282b71a49"
   }
  }
 },
 "nbformat": 4,
 "nbformat_minor": 2
}
