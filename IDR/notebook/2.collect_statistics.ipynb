{
 "cells": [
  {
   "cell_type": "code",
   "execution_count": 6,
   "metadata": {},
   "outputs": [],
   "source": [
    "import pandas as pd\n",
    "import pathlib\n",
    "import multiprocessing\n",
    "import time\n",
    "import importlib\n",
    "from scripts.stat_utils import collect_study_stats, collect_databank_stats\n",
    "from scripts.io_utils import walk"
   ]
  },
  {
   "cell_type": "code",
   "execution_count": 7,
   "metadata": {},
   "outputs": [
    {
     "name": "stderr",
     "output_type": "stream",
     "text": [
      "/home/parkerhicks/anaconda3/envs/microscopy-data/lib/python3.10/site-packages/skbio/diversity/alpha/_base.py:793: RuntimeWarning: invalid value encountered in double_scalars\n",
      "  return shannon(counts, base=np.e) / np.log(observed_otus(counts))\n",
      "/home/parkerhicks/anaconda3/envs/microscopy-data/lib/python3.10/site-packages/skbio/diversity/alpha/_base.py:793: RuntimeWarning: invalid value encountered in double_scalars\n",
      "  return shannon(counts, base=np.e) / np.log(observed_otus(counts))\n",
      "/home/parkerhicks/anaconda3/envs/microscopy-data/lib/python3.10/site-packages/skbio/diversity/alpha/_base.py:793: RuntimeWarning: invalid value encountered in double_scalars\n",
      "  return shannon(counts, base=np.e) / np.log(observed_otus(counts))\n"
     ]
    }
   ],
   "source": [
    "# Define study metadata directory\n",
    "studies_metadata_dir = pathlib.Path(\"../data/metadata\")\n",
    "\n",
    "# Collect metadata file paths\n",
    "metadata_files = list(walk(studies_metadata_dir))\n",
    "\n",
    "# Calculate statistics for each image attribute within each study\n",
    "all_results_list = list()\n",
    "for metadata_path in metadata_files:\n",
    "    collect_study_stats(metadata_path, all_results_list)\n",
    "\n",
    "stat_results_df = pd.DataFrame(\n",
    "    data=all_results_list,\n",
    "    columns=[\"Study_Name\", \"Attribute\", \"S\", \"H\", \"NME\", \"J\", \"E\", \"GC\"],\n",
    ")\n",
    "\n",
    "# Make directories\n",
    "stats_dir = pathlib.Path(\"../data/statistics\")\n",
    "pathlib.Path.mkdir(stats_dir, exist_ok=True)\n",
    "\n",
    "# Save individual stats as parquet file\n",
    "output_file = pathlib.Path(stats_dir, f\"individual_studies_diversity.parquet.gzip\")\n",
    "stat_results_df.to_parquet(output_file, compression=\"gzip\")"
   ]
  },
  {
   "cell_type": "code",
   "execution_count": 8,
   "metadata": {},
   "outputs": [
    {
     "name": "stderr",
     "output_type": "stream",
     "text": [
      "/home/parkerhicks/anaconda3/envs/microscopy-data/lib/python3.10/site-packages/skbio/diversity/alpha/_base.py:793: RuntimeWarning: invalid value encountered in double_scalars\n",
      "  return shannon(counts, base=np.e) / np.log(observed_otus(counts))\n"
     ]
    }
   ],
   "source": [
    "# Collect databank stats\n",
    "databank_stats = collect_databank_stats(metadata_dir=studies_metadata_dir)\n",
    "\n",
    "# Save databank stats as parquet file\n",
    "output_file = pathlib.Path(stats_dir, f\"databank_diversity.parquet.gzip\")\n",
    "databank_stats.to_parquet(output_file, compression=\"gzip\")"
   ]
  },
  {
   "cell_type": "code",
   "execution_count": 9,
   "metadata": {},
   "outputs": [
    {
     "name": "stdout",
     "output_type": "stream",
     "text": [
      "                              Study_Name       Attribute     S          H  \\\n",
      "0  idr0080-way-perturbation_screenA_2701         well_id  6912  12.754888   \n",
      "1  idr0080-way-perturbation_screenA_2701  imaging_method     1  -0.000000   \n",
      "2  idr0080-way-perturbation_screenA_2701        organism     1  -0.000000   \n",
      "3  idr0080-way-perturbation_screenA_2701   organism_part     1  -0.000000   \n",
      "4  idr0080-way-perturbation_screenA_2701       cell_line     3   1.584963   \n",
      "\n",
      "     J        GC  \n",
      "0  1.0 -0.000145  \n",
      "1  NaN -1.000000  \n",
      "2  NaN -1.000000  \n",
      "3  NaN -1.000000  \n",
      "4  1.0 -0.333333  \n",
      "    Attribute      S          H         J        GC\n",
      "0   screen_id      3   1.241427  0.783253  0.030508\n",
      "1  study_name      3   1.241427  0.783253  0.030508\n",
      "2    plate_id    334   7.926605  0.945478  0.368406\n",
      "3  plate_name    334   7.926605  0.945478  0.368406\n",
      "4     well_id  28320  14.789534  1.000000 -0.000035\n"
     ]
    }
   ],
   "source": [
    "study_stats = pd.read_parquet(f\"{stats_dir}/individual_studies_diversity.parquet.gzip\")\n",
    "print(study_stats.head())\n",
    "\n",
    "databank_stats = pd.read_parquet(f\"{stats_dir}/databank_diversity.parquet.gzip\")\n",
    "print(databank_stats.head())"
   ]
  }
 ],
 "metadata": {
  "kernelspec": {
   "display_name": "Python 3.10.6 ('microscopy-data')",
   "language": "python",
   "name": "python3"
  },
  "language_info": {
   "codemirror_mode": {
    "name": "ipython",
    "version": 3
   },
   "file_extension": ".py",
   "mimetype": "text/x-python",
   "name": "python",
   "nbconvert_exporter": "python",
   "pygments_lexer": "ipython3",
   "version": "3.10.6"
  },
  "orig_nbformat": 4,
  "vscode": {
   "interpreter": {
    "hash": "9f4c950018fd5545de3ba7d7ac3b162b0b29b0916ffc3f7a196033f09bddc306"
   }
  }
 },
 "nbformat": 4,
 "nbformat_minor": 2
}
