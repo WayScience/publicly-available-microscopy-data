{
 "cells": [
  {
   "cell_type": "markdown",
   "id": "708754e5-42bf-4b13-932a-9b58c56242ed",
   "metadata": {},
   "source": [
    "# Obtain details for all screens and projects on Image Data Resource\n",
    "\n",
    "https://idr.openmicroscopy.org/"
   ]
  },
  {
   "cell_type": "code",
   "execution_count": 2,
   "id": "57001674-12d4-49fa-8b38-10c5d2eea151",
   "metadata": {},
   "outputs": [],
   "source": [
    "import pathlib\n",
    "import requests\n",
    "import pandas as pd"
   ]
  },
  {
   "cell_type": "code",
   "execution_count": 7,
   "id": "f4706e15-02a7-4ca6-8d03-853c24f7a958",
   "metadata": {},
   "outputs": [],
   "source": [
    "def get_id(json):\n",
    "    \"\"\"Clean json details in preparation for IDR screen detail storage\n",
    "    \n",
    "    Parameters\n",
    "    ----------\n",
    "    json: dict\n",
    "        One IDR study, with keys storing important pieces of information about the study\n",
    "        \n",
    "    Returns\n",
    "    -------\n",
    "    Tuple of ID, name, project title, description, and kind of study.\n",
    "    \"\"\"\n",
    "    id_ = json[\"@id\"]\n",
    "    name_ = json[\"Name\"]\n",
    "    details_ = json[\"Description\"]\n",
    "    \n",
    "    if \"Screen Description\" in details_:\n",
    "        split_detail = \"Screen\"\n",
    "    elif \"Study Description\" in details_:\n",
    "        split_detail = \"Study\"\n",
    "    elif \"Experiment Description\" in details_:\n",
    "        split_detail = \"Experiment\"\n",
    "    \n",
    "    title_, description_ = details_.split(f\"{split_detail} Description\\n\")\n",
    "    title_ = title_.replace(\"Publication Title\\n\", \"\").replace(\"\\n\", \"\")\n",
    "    description_ = description_.replace(\"\\n\", \"\")\n",
    "\n",
    "    return (id_, name_, title_, description_, split_detail)"
   ]
  },
  {
   "cell_type": "code",
   "execution_count": 3,
   "id": "7e121348-50e6-4047-b865-519e4026a0d5",
   "metadata": {},
   "outputs": [],
   "source": [
    "output_dir = pathlib.Path(\"../data\")"
   ]
  },
  {
   "cell_type": "code",
   "execution_count": 4,
   "id": "c4d196dc-a2f3-4e73-bd5a-37d2eda0a391",
   "metadata": {},
   "outputs": [],
   "source": [
    "# Load all screens\n",
    "INDEX_PAGE = \"https://idr.openmicroscopy.org/api/v0/m/screens/\"\n",
    "\n",
    "with requests.Session() as screen_session:\n",
    "    request = requests.Request('GET', INDEX_PAGE)\n",
    "    prepped = screen_session.prepare_request(request)\n",
    "    response = screen_session.send(prepped)\n",
    "    if response.status_code != 200:\n",
    "        response.raise_for_status()\n",
    "        \n",
    "screen_info = screen_session.get(INDEX_PAGE).json()"
   ]
  },
  {
   "cell_type": "code",
   "execution_count": 5,
   "id": "d4bbb155-18d8-4514-9836-5fe914a9ed8a",
   "metadata": {},
   "outputs": [],
   "source": [
    "# Load all projects\n",
    "INDEX_PAGE = \"https://idr.openmicroscopy.org/api/v0/m/projects/\"\n",
    "\n",
    "with requests.Session() as project_session:\n",
    "    request = requests.Request('GET', INDEX_PAGE)\n",
    "    prepped = project_session.prepare_request(request)\n",
    "    response = project_session.send(prepped)\n",
    "    if response.status_code != 200:\n",
    "        response.raise_for_status()\n",
    "\n",
    "project_info = project_session.get(INDEX_PAGE).json()"
   ]
  },
  {
   "cell_type": "code",
   "execution_count": 8,
   "id": "c6ccc719-2628-4b44-aecf-469c74418d34",
   "metadata": {},
   "outputs": [
    {
     "ename": "OSError",
     "evalue": "Cannot save file into a non-existent directory: 'IDR/data'",
     "output_type": "error",
     "traceback": [
      "\u001b[0;31m---------------------------------------------------------------------------\u001b[0m",
      "\u001b[0;31mOSError\u001b[0m                                   Traceback (most recent call last)",
      "\u001b[1;32m/home/parkerhicks/Documents/publicly-available-microscopy-data/IDR/notebook/0.get_ids.ipynb Cell 7'\u001b[0m in \u001b[0;36m<cell line: 16>\u001b[0;34m()\u001b[0m\n\u001b[1;32m     <a href='vscode-notebook-cell:/home/parkerhicks/Documents/publicly-available-microscopy-data/IDR/notebook/0.get_ids.ipynb#ch0000006?line=13'>14</a>\u001b[0m \u001b[39m# Output to file\u001b[39;00m\n\u001b[1;32m     <a href='vscode-notebook-cell:/home/parkerhicks/Documents/publicly-available-microscopy-data/IDR/notebook/0.get_ids.ipynb#ch0000006?line=14'>15</a>\u001b[0m output_file \u001b[39m=\u001b[39m pathlib\u001b[39m.\u001b[39mPath(output_dir, \u001b[39m\"\u001b[39m\u001b[39midr_ids.tsv\u001b[39m\u001b[39m\"\u001b[39m)\n\u001b[0;32m---> <a href='vscode-notebook-cell:/home/parkerhicks/Documents/publicly-available-microscopy-data/IDR/notebook/0.get_ids.ipynb#ch0000006?line=15'>16</a>\u001b[0m id_df\u001b[39m.\u001b[39;49mto_csv(output_file, index\u001b[39m=\u001b[39;49m\u001b[39mFalse\u001b[39;49;00m, sep\u001b[39m=\u001b[39;49m\u001b[39m\"\u001b[39;49m\u001b[39m\\t\u001b[39;49;00m\u001b[39m\"\u001b[39;49m)\n\u001b[1;32m     <a href='vscode-notebook-cell:/home/parkerhicks/Documents/publicly-available-microscopy-data/IDR/notebook/0.get_ids.ipynb#ch0000006?line=17'>18</a>\u001b[0m \u001b[39mprint\u001b[39m(id_df\u001b[39m.\u001b[39mshape)\n\u001b[1;32m     <a href='vscode-notebook-cell:/home/parkerhicks/Documents/publicly-available-microscopy-data/IDR/notebook/0.get_ids.ipynb#ch0000006?line=18'>19</a>\u001b[0m id_df\u001b[39m.\u001b[39mhead(\u001b[39m3\u001b[39m)\n",
      "File \u001b[0;32m~/anaconda3/lib/python3.9/site-packages/pandas/core/generic.py:3551\u001b[0m, in \u001b[0;36mNDFrame.to_csv\u001b[0;34m(self, path_or_buf, sep, na_rep, float_format, columns, header, index, index_label, mode, encoding, compression, quoting, quotechar, line_terminator, chunksize, date_format, doublequote, escapechar, decimal, errors, storage_options)\u001b[0m\n\u001b[1;32m   <a href='file:///home/parkerhicks/anaconda3/lib/python3.9/site-packages/pandas/core/generic.py?line=3539'>3540</a>\u001b[0m df \u001b[39m=\u001b[39m \u001b[39mself\u001b[39m \u001b[39mif\u001b[39;00m \u001b[39misinstance\u001b[39m(\u001b[39mself\u001b[39m, ABCDataFrame) \u001b[39melse\u001b[39;00m \u001b[39mself\u001b[39m\u001b[39m.\u001b[39mto_frame()\n\u001b[1;32m   <a href='file:///home/parkerhicks/anaconda3/lib/python3.9/site-packages/pandas/core/generic.py?line=3541'>3542</a>\u001b[0m formatter \u001b[39m=\u001b[39m DataFrameFormatter(\n\u001b[1;32m   <a href='file:///home/parkerhicks/anaconda3/lib/python3.9/site-packages/pandas/core/generic.py?line=3542'>3543</a>\u001b[0m     frame\u001b[39m=\u001b[39mdf,\n\u001b[1;32m   <a href='file:///home/parkerhicks/anaconda3/lib/python3.9/site-packages/pandas/core/generic.py?line=3543'>3544</a>\u001b[0m     header\u001b[39m=\u001b[39mheader,\n\u001b[0;32m   (...)\u001b[0m\n\u001b[1;32m   <a href='file:///home/parkerhicks/anaconda3/lib/python3.9/site-packages/pandas/core/generic.py?line=3547'>3548</a>\u001b[0m     decimal\u001b[39m=\u001b[39mdecimal,\n\u001b[1;32m   <a href='file:///home/parkerhicks/anaconda3/lib/python3.9/site-packages/pandas/core/generic.py?line=3548'>3549</a>\u001b[0m )\n\u001b[0;32m-> <a href='file:///home/parkerhicks/anaconda3/lib/python3.9/site-packages/pandas/core/generic.py?line=3550'>3551</a>\u001b[0m \u001b[39mreturn\u001b[39;00m DataFrameRenderer(formatter)\u001b[39m.\u001b[39;49mto_csv(\n\u001b[1;32m   <a href='file:///home/parkerhicks/anaconda3/lib/python3.9/site-packages/pandas/core/generic.py?line=3551'>3552</a>\u001b[0m     path_or_buf,\n\u001b[1;32m   <a href='file:///home/parkerhicks/anaconda3/lib/python3.9/site-packages/pandas/core/generic.py?line=3552'>3553</a>\u001b[0m     line_terminator\u001b[39m=\u001b[39;49mline_terminator,\n\u001b[1;32m   <a href='file:///home/parkerhicks/anaconda3/lib/python3.9/site-packages/pandas/core/generic.py?line=3553'>3554</a>\u001b[0m     sep\u001b[39m=\u001b[39;49msep,\n\u001b[1;32m   <a href='file:///home/parkerhicks/anaconda3/lib/python3.9/site-packages/pandas/core/generic.py?line=3554'>3555</a>\u001b[0m     encoding\u001b[39m=\u001b[39;49mencoding,\n\u001b[1;32m   <a href='file:///home/parkerhicks/anaconda3/lib/python3.9/site-packages/pandas/core/generic.py?line=3555'>3556</a>\u001b[0m     errors\u001b[39m=\u001b[39;49merrors,\n\u001b[1;32m   <a href='file:///home/parkerhicks/anaconda3/lib/python3.9/site-packages/pandas/core/generic.py?line=3556'>3557</a>\u001b[0m     compression\u001b[39m=\u001b[39;49mcompression,\n\u001b[1;32m   <a href='file:///home/parkerhicks/anaconda3/lib/python3.9/site-packages/pandas/core/generic.py?line=3557'>3558</a>\u001b[0m     quoting\u001b[39m=\u001b[39;49mquoting,\n\u001b[1;32m   <a href='file:///home/parkerhicks/anaconda3/lib/python3.9/site-packages/pandas/core/generic.py?line=3558'>3559</a>\u001b[0m     columns\u001b[39m=\u001b[39;49mcolumns,\n\u001b[1;32m   <a href='file:///home/parkerhicks/anaconda3/lib/python3.9/site-packages/pandas/core/generic.py?line=3559'>3560</a>\u001b[0m     index_label\u001b[39m=\u001b[39;49mindex_label,\n\u001b[1;32m   <a href='file:///home/parkerhicks/anaconda3/lib/python3.9/site-packages/pandas/core/generic.py?line=3560'>3561</a>\u001b[0m     mode\u001b[39m=\u001b[39;49mmode,\n\u001b[1;32m   <a href='file:///home/parkerhicks/anaconda3/lib/python3.9/site-packages/pandas/core/generic.py?line=3561'>3562</a>\u001b[0m     chunksize\u001b[39m=\u001b[39;49mchunksize,\n\u001b[1;32m   <a href='file:///home/parkerhicks/anaconda3/lib/python3.9/site-packages/pandas/core/generic.py?line=3562'>3563</a>\u001b[0m     quotechar\u001b[39m=\u001b[39;49mquotechar,\n\u001b[1;32m   <a href='file:///home/parkerhicks/anaconda3/lib/python3.9/site-packages/pandas/core/generic.py?line=3563'>3564</a>\u001b[0m     date_format\u001b[39m=\u001b[39;49mdate_format,\n\u001b[1;32m   <a href='file:///home/parkerhicks/anaconda3/lib/python3.9/site-packages/pandas/core/generic.py?line=3564'>3565</a>\u001b[0m     doublequote\u001b[39m=\u001b[39;49mdoublequote,\n\u001b[1;32m   <a href='file:///home/parkerhicks/anaconda3/lib/python3.9/site-packages/pandas/core/generic.py?line=3565'>3566</a>\u001b[0m     escapechar\u001b[39m=\u001b[39;49mescapechar,\n\u001b[1;32m   <a href='file:///home/parkerhicks/anaconda3/lib/python3.9/site-packages/pandas/core/generic.py?line=3566'>3567</a>\u001b[0m     storage_options\u001b[39m=\u001b[39;49mstorage_options,\n\u001b[1;32m   <a href='file:///home/parkerhicks/anaconda3/lib/python3.9/site-packages/pandas/core/generic.py?line=3567'>3568</a>\u001b[0m )\n",
      "File \u001b[0;32m~/anaconda3/lib/python3.9/site-packages/pandas/io/formats/format.py:1180\u001b[0m, in \u001b[0;36mDataFrameRenderer.to_csv\u001b[0;34m(self, path_or_buf, encoding, sep, columns, index_label, mode, compression, quoting, quotechar, line_terminator, chunksize, date_format, doublequote, escapechar, errors, storage_options)\u001b[0m\n\u001b[1;32m   <a href='file:///home/parkerhicks/anaconda3/lib/python3.9/site-packages/pandas/io/formats/format.py?line=1158'>1159</a>\u001b[0m     created_buffer \u001b[39m=\u001b[39m \u001b[39mFalse\u001b[39;00m\n\u001b[1;32m   <a href='file:///home/parkerhicks/anaconda3/lib/python3.9/site-packages/pandas/io/formats/format.py?line=1160'>1161</a>\u001b[0m csv_formatter \u001b[39m=\u001b[39m CSVFormatter(\n\u001b[1;32m   <a href='file:///home/parkerhicks/anaconda3/lib/python3.9/site-packages/pandas/io/formats/format.py?line=1161'>1162</a>\u001b[0m     path_or_buf\u001b[39m=\u001b[39mpath_or_buf,\n\u001b[1;32m   <a href='file:///home/parkerhicks/anaconda3/lib/python3.9/site-packages/pandas/io/formats/format.py?line=1162'>1163</a>\u001b[0m     line_terminator\u001b[39m=\u001b[39mline_terminator,\n\u001b[0;32m   (...)\u001b[0m\n\u001b[1;32m   <a href='file:///home/parkerhicks/anaconda3/lib/python3.9/site-packages/pandas/io/formats/format.py?line=1177'>1178</a>\u001b[0m     formatter\u001b[39m=\u001b[39m\u001b[39mself\u001b[39m\u001b[39m.\u001b[39mfmt,\n\u001b[1;32m   <a href='file:///home/parkerhicks/anaconda3/lib/python3.9/site-packages/pandas/io/formats/format.py?line=1178'>1179</a>\u001b[0m )\n\u001b[0;32m-> <a href='file:///home/parkerhicks/anaconda3/lib/python3.9/site-packages/pandas/io/formats/format.py?line=1179'>1180</a>\u001b[0m csv_formatter\u001b[39m.\u001b[39;49msave()\n\u001b[1;32m   <a href='file:///home/parkerhicks/anaconda3/lib/python3.9/site-packages/pandas/io/formats/format.py?line=1181'>1182</a>\u001b[0m \u001b[39mif\u001b[39;00m created_buffer:\n\u001b[1;32m   <a href='file:///home/parkerhicks/anaconda3/lib/python3.9/site-packages/pandas/io/formats/format.py?line=1182'>1183</a>\u001b[0m     \u001b[39massert\u001b[39;00m \u001b[39misinstance\u001b[39m(path_or_buf, StringIO)\n",
      "File \u001b[0;32m~/anaconda3/lib/python3.9/site-packages/pandas/io/formats/csvs.py:241\u001b[0m, in \u001b[0;36mCSVFormatter.save\u001b[0;34m(self)\u001b[0m\n\u001b[1;32m    <a href='file:///home/parkerhicks/anaconda3/lib/python3.9/site-packages/pandas/io/formats/csvs.py?line=236'>237</a>\u001b[0m \u001b[39m\"\"\"\u001b[39;00m\n\u001b[1;32m    <a href='file:///home/parkerhicks/anaconda3/lib/python3.9/site-packages/pandas/io/formats/csvs.py?line=237'>238</a>\u001b[0m \u001b[39mCreate the writer & save.\u001b[39;00m\n\u001b[1;32m    <a href='file:///home/parkerhicks/anaconda3/lib/python3.9/site-packages/pandas/io/formats/csvs.py?line=238'>239</a>\u001b[0m \u001b[39m\"\"\"\u001b[39;00m\n\u001b[1;32m    <a href='file:///home/parkerhicks/anaconda3/lib/python3.9/site-packages/pandas/io/formats/csvs.py?line=239'>240</a>\u001b[0m \u001b[39m# apply compression and byte/text conversion\u001b[39;00m\n\u001b[0;32m--> <a href='file:///home/parkerhicks/anaconda3/lib/python3.9/site-packages/pandas/io/formats/csvs.py?line=240'>241</a>\u001b[0m \u001b[39mwith\u001b[39;00m get_handle(\n\u001b[1;32m    <a href='file:///home/parkerhicks/anaconda3/lib/python3.9/site-packages/pandas/io/formats/csvs.py?line=241'>242</a>\u001b[0m     \u001b[39mself\u001b[39;49m\u001b[39m.\u001b[39;49mfilepath_or_buffer,\n\u001b[1;32m    <a href='file:///home/parkerhicks/anaconda3/lib/python3.9/site-packages/pandas/io/formats/csvs.py?line=242'>243</a>\u001b[0m     \u001b[39mself\u001b[39;49m\u001b[39m.\u001b[39;49mmode,\n\u001b[1;32m    <a href='file:///home/parkerhicks/anaconda3/lib/python3.9/site-packages/pandas/io/formats/csvs.py?line=243'>244</a>\u001b[0m     encoding\u001b[39m=\u001b[39;49m\u001b[39mself\u001b[39;49m\u001b[39m.\u001b[39;49mencoding,\n\u001b[1;32m    <a href='file:///home/parkerhicks/anaconda3/lib/python3.9/site-packages/pandas/io/formats/csvs.py?line=244'>245</a>\u001b[0m     errors\u001b[39m=\u001b[39;49m\u001b[39mself\u001b[39;49m\u001b[39m.\u001b[39;49merrors,\n\u001b[1;32m    <a href='file:///home/parkerhicks/anaconda3/lib/python3.9/site-packages/pandas/io/formats/csvs.py?line=245'>246</a>\u001b[0m     compression\u001b[39m=\u001b[39;49m\u001b[39mself\u001b[39;49m\u001b[39m.\u001b[39;49mcompression,\n\u001b[1;32m    <a href='file:///home/parkerhicks/anaconda3/lib/python3.9/site-packages/pandas/io/formats/csvs.py?line=246'>247</a>\u001b[0m     storage_options\u001b[39m=\u001b[39;49m\u001b[39mself\u001b[39;49m\u001b[39m.\u001b[39;49mstorage_options,\n\u001b[1;32m    <a href='file:///home/parkerhicks/anaconda3/lib/python3.9/site-packages/pandas/io/formats/csvs.py?line=247'>248</a>\u001b[0m ) \u001b[39mas\u001b[39;00m handles:\n\u001b[1;32m    <a href='file:///home/parkerhicks/anaconda3/lib/python3.9/site-packages/pandas/io/formats/csvs.py?line=248'>249</a>\u001b[0m \n\u001b[1;32m    <a href='file:///home/parkerhicks/anaconda3/lib/python3.9/site-packages/pandas/io/formats/csvs.py?line=249'>250</a>\u001b[0m     \u001b[39m# Note: self.encoding is irrelevant here\u001b[39;00m\n\u001b[1;32m    <a href='file:///home/parkerhicks/anaconda3/lib/python3.9/site-packages/pandas/io/formats/csvs.py?line=250'>251</a>\u001b[0m     \u001b[39mself\u001b[39m\u001b[39m.\u001b[39mwriter \u001b[39m=\u001b[39m csvlib\u001b[39m.\u001b[39mwriter(\n\u001b[1;32m    <a href='file:///home/parkerhicks/anaconda3/lib/python3.9/site-packages/pandas/io/formats/csvs.py?line=251'>252</a>\u001b[0m         handles\u001b[39m.\u001b[39mhandle,\n\u001b[1;32m    <a href='file:///home/parkerhicks/anaconda3/lib/python3.9/site-packages/pandas/io/formats/csvs.py?line=252'>253</a>\u001b[0m         lineterminator\u001b[39m=\u001b[39m\u001b[39mself\u001b[39m\u001b[39m.\u001b[39mline_terminator,\n\u001b[0;32m   (...)\u001b[0m\n\u001b[1;32m    <a href='file:///home/parkerhicks/anaconda3/lib/python3.9/site-packages/pandas/io/formats/csvs.py?line=257'>258</a>\u001b[0m         quotechar\u001b[39m=\u001b[39m\u001b[39mself\u001b[39m\u001b[39m.\u001b[39mquotechar,\n\u001b[1;32m    <a href='file:///home/parkerhicks/anaconda3/lib/python3.9/site-packages/pandas/io/formats/csvs.py?line=258'>259</a>\u001b[0m     )\n\u001b[1;32m    <a href='file:///home/parkerhicks/anaconda3/lib/python3.9/site-packages/pandas/io/formats/csvs.py?line=260'>261</a>\u001b[0m     \u001b[39mself\u001b[39m\u001b[39m.\u001b[39m_save()\n",
      "File \u001b[0;32m~/anaconda3/lib/python3.9/site-packages/pandas/io/common.py:697\u001b[0m, in \u001b[0;36mget_handle\u001b[0;34m(path_or_buf, mode, encoding, compression, memory_map, is_text, errors, storage_options)\u001b[0m\n\u001b[1;32m    <a href='file:///home/parkerhicks/anaconda3/lib/python3.9/site-packages/pandas/io/common.py?line=694'>695</a>\u001b[0m \u001b[39m# Only for write methods\u001b[39;00m\n\u001b[1;32m    <a href='file:///home/parkerhicks/anaconda3/lib/python3.9/site-packages/pandas/io/common.py?line=695'>696</a>\u001b[0m \u001b[39mif\u001b[39;00m \u001b[39m\"\u001b[39m\u001b[39mr\u001b[39m\u001b[39m\"\u001b[39m \u001b[39mnot\u001b[39;00m \u001b[39min\u001b[39;00m mode \u001b[39mand\u001b[39;00m is_path:\n\u001b[0;32m--> <a href='file:///home/parkerhicks/anaconda3/lib/python3.9/site-packages/pandas/io/common.py?line=696'>697</a>\u001b[0m     check_parent_directory(\u001b[39mstr\u001b[39;49m(handle))\n\u001b[1;32m    <a href='file:///home/parkerhicks/anaconda3/lib/python3.9/site-packages/pandas/io/common.py?line=698'>699</a>\u001b[0m \u001b[39mif\u001b[39;00m compression:\n\u001b[1;32m    <a href='file:///home/parkerhicks/anaconda3/lib/python3.9/site-packages/pandas/io/common.py?line=699'>700</a>\u001b[0m     \u001b[39mif\u001b[39;00m compression \u001b[39m!=\u001b[39m \u001b[39m\"\u001b[39m\u001b[39mzstd\u001b[39m\u001b[39m\"\u001b[39m:\n\u001b[1;32m    <a href='file:///home/parkerhicks/anaconda3/lib/python3.9/site-packages/pandas/io/common.py?line=700'>701</a>\u001b[0m         \u001b[39m# compression libraries do not like an explicit text-mode\u001b[39;00m\n",
      "File \u001b[0;32m~/anaconda3/lib/python3.9/site-packages/pandas/io/common.py:571\u001b[0m, in \u001b[0;36mcheck_parent_directory\u001b[0;34m(path)\u001b[0m\n\u001b[1;32m    <a href='file:///home/parkerhicks/anaconda3/lib/python3.9/site-packages/pandas/io/common.py?line=568'>569</a>\u001b[0m parent \u001b[39m=\u001b[39m Path(path)\u001b[39m.\u001b[39mparent\n\u001b[1;32m    <a href='file:///home/parkerhicks/anaconda3/lib/python3.9/site-packages/pandas/io/common.py?line=569'>570</a>\u001b[0m \u001b[39mif\u001b[39;00m \u001b[39mnot\u001b[39;00m parent\u001b[39m.\u001b[39mis_dir():\n\u001b[0;32m--> <a href='file:///home/parkerhicks/anaconda3/lib/python3.9/site-packages/pandas/io/common.py?line=570'>571</a>\u001b[0m     \u001b[39mraise\u001b[39;00m \u001b[39mOSError\u001b[39;00m(\u001b[39mrf\u001b[39m\u001b[39m\"\u001b[39m\u001b[39mCannot save file into a non-existent directory: \u001b[39m\u001b[39m'\u001b[39m\u001b[39m{\u001b[39;00mparent\u001b[39m}\u001b[39;00m\u001b[39m'\u001b[39m\u001b[39m\"\u001b[39m)\n",
      "\u001b[0;31mOSError\u001b[0m: Cannot save file into a non-existent directory: 'IDR/data'"
     ]
    }
   ],
   "source": [
    "screen_df = pd.DataFrame(\n",
    "    [get_id(x) for x in screen_info[\"data\"]],\n",
    "    columns=[\"id\", \"name\", \"title\", \"description\", \"category\"]\n",
    ")\n",
    "\n",
    "\n",
    "project_df = pd.DataFrame(\n",
    "    [get_id(x) for x in project_info[\"data\"]],\n",
    "    columns=[\"id\", \"name\", \"title\", \"description\", \"category\"]\n",
    ")\n",
    "\n",
    "id_df = pd.concat([screen_df, project_df], axis=\"rows\").reset_index(drop=True)\n",
    "\n",
    "# Output to file\n",
    "output_file = pathlib.Path(output_dir, \"idr_ids.tsv\")\n",
    "id_df.to_csv(output_file, index=False, sep=\"\\t\")\n",
    "\n",
    "print(id_df.shape)\n",
    "id_df.head(3)"
   ]
  }
 ],
 "metadata": {
  "kernelspec": {
   "display_name": "Python 3.9.12 ('base')",
   "language": "python",
   "name": "python3"
  },
  "language_info": {
   "codemirror_mode": {
    "name": "ipython",
    "version": 3
   },
   "file_extension": ".py",
   "mimetype": "text/x-python",
   "name": "python",
   "nbconvert_exporter": "python",
   "pygments_lexer": "ipython3",
   "version": "3.9.12"
  },
  "vscode": {
   "interpreter": {
    "hash": "6727b04d2b6bae3ded4fc387a1bb9b8f5bef8644bb0eed6fe44abf57f9b35522"
   }
  }
 },
 "nbformat": 4,
 "nbformat_minor": 5
}
