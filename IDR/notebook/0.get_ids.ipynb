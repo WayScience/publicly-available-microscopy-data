{
 "cells": [
  {
   "cell_type": "markdown",
   "id": "708754e5-42bf-4b13-932a-9b58c56242ed",
   "metadata": {},
   "source": [
    "# Obtain details for all screens and projects on Image Data Resource\n",
    "\n",
    "https://idr.openmicroscopy.org/"
   ]
  },
  {
   "cell_type": "code",
   "execution_count": 1,
   "id": "57001674-12d4-49fa-8b38-10c5d2eea151",
   "metadata": {},
   "outputs": [],
   "source": [
    "import pathlib\n",
    "import requests\n",
    "import pandas as pd"
   ]
  },
  {
   "cell_type": "code",
   "execution_count": 2,
   "id": "f4706e15-02a7-4ca6-8d03-853c24f7a958",
   "metadata": {},
   "outputs": [],
   "source": [
    "def get_id(json):\n",
    "    \"\"\"Clean json details in preparation for IDR screen detail storage\n",
    "    \n",
    "    Parameters\n",
    "    ----------\n",
    "    json: dict\n",
    "        One IDR study, with keys storing important pieces of information about the study\n",
    "        \n",
    "    Returns\n",
    "    -------\n",
    "    Tuple of ID, name, project title, description, and kind of study.\n",
    "    \"\"\"\n",
    "    id_ = json[\"@id\"]\n",
    "    name_ = json[\"Name\"]\n",
    "    details_ = json[\"Description\"]\n",
    "    \n",
    "    if \"Screen Description\" in details_:\n",
    "        split_detail = \"Screen\"\n",
    "    elif \"Study Description\" in details_:\n",
    "        split_detail = \"Study\"\n",
    "    elif \"Experiment Description\" in details_:\n",
    "        split_detail = \"Experiment\"\n",
    "    \n",
    "    title_, description_ = details_.split(f\"{split_detail} Description\\n\")\n",
    "    title_ = title_.replace(\"Publication Title\\n\", \"\").replace(\"\\n\", \"\")\n",
    "    description_ = description_.replace(\"\\n\", \"\")\n",
    "\n",
    "    return (id_, name_, title_, description_, split_detail)"
   ]
  },
  {
   "cell_type": "code",
   "execution_count": 3,
   "id": "7e121348-50e6-4047-b865-519e4026a0d5",
   "metadata": {},
   "outputs": [],
   "source": [
    "output_dir = pathlib.Path(\"../data\")"
   ]
  },
  {
   "cell_type": "code",
   "execution_count": 4,
   "id": "c4d196dc-a2f3-4e73-bd5a-37d2eda0a391",
   "metadata": {},
   "outputs": [],
   "source": [
    "# Load all screens\n",
    "INDEX_PAGE = \"https://idr.openmicroscopy.org/api/v0/m/screens/\"\n",
    "\n",
    "with requests.Session() as screen_session:\n",
    "    request = requests.Request('GET', INDEX_PAGE)\n",
    "    prepped = screen_session.prepare_request(request)\n",
    "    response = screen_session.send(prepped)\n",
    "    if response.status_code != 200:\n",
    "        response.raise_for_status()\n",
    "        \n",
    "screen_info = screen_session.get(INDEX_PAGE).json()"
   ]
  },
  {
   "cell_type": "code",
   "execution_count": 5,
   "id": "d4bbb155-18d8-4514-9836-5fe914a9ed8a",
   "metadata": {},
   "outputs": [],
   "source": [
    "# Load all projects\n",
    "INDEX_PAGE = \"https://idr.openmicroscopy.org/api/v0/m/projects/\"\n",
    "\n",
    "with requests.Session() as project_session:\n",
    "    request = requests.Request('GET', INDEX_PAGE)\n",
    "    prepped = project_session.prepare_request(request)\n",
    "    response = project_session.send(prepped)\n",
    "    if response.status_code != 200:\n",
    "        response.raise_for_status()\n",
    "\n",
    "project_info = project_session.get(INDEX_PAGE).json()"
   ]
  },
  {
   "cell_type": "code",
   "execution_count": 6,
   "id": "c6ccc719-2628-4b44-aecf-469c74418d34",
   "metadata": {},
   "outputs": [
    {
     "name": "stdout",
     "output_type": "stream",
     "text": [
      "(199, 5)\n"
     ]
    },
    {
     "data": {
      "text/html": [
       "<div>\n",
       "<style scoped>\n",
       "    .dataframe tbody tr th:only-of-type {\n",
       "        vertical-align: middle;\n",
       "    }\n",
       "\n",
       "    .dataframe tbody tr th {\n",
       "        vertical-align: top;\n",
       "    }\n",
       "\n",
       "    .dataframe thead th {\n",
       "        text-align: right;\n",
       "    }\n",
       "</style>\n",
       "<table border=\"1\" class=\"dataframe\">\n",
       "  <thead>\n",
       "    <tr style=\"text-align: right;\">\n",
       "      <th></th>\n",
       "      <th>id</th>\n",
       "      <th>name</th>\n",
       "      <th>title</th>\n",
       "      <th>description</th>\n",
       "      <th>category</th>\n",
       "    </tr>\n",
       "  </thead>\n",
       "  <tbody>\n",
       "    <tr>\n",
       "      <th>0</th>\n",
       "      <td>3</td>\n",
       "      <td>idr0001-graml-sysgro/screenA</td>\n",
       "      <td>A genomic Multiprocess survey of machineries t...</td>\n",
       "      <td>Primary screen of fission yeast knock out muta...</td>\n",
       "      <td>Screen</td>\n",
       "    </tr>\n",
       "    <tr>\n",
       "      <th>1</th>\n",
       "      <td>102</td>\n",
       "      <td>idr0002-heriche-condensation/screenA</td>\n",
       "      <td>Integration of biological data by kernels on g...</td>\n",
       "      <td>Screen of 100 candidate genes predicted to be ...</td>\n",
       "      <td>Screen</td>\n",
       "    </tr>\n",
       "    <tr>\n",
       "      <th>2</th>\n",
       "      <td>51</td>\n",
       "      <td>idr0003-breker-plasticity/screenA</td>\n",
       "      <td>A novel single-cell screening platform reveals...</td>\n",
       "      <td>Screen to characterize yeast stress responses ...</td>\n",
       "      <td>Screen</td>\n",
       "    </tr>\n",
       "  </tbody>\n",
       "</table>\n",
       "</div>"
      ],
      "text/plain": [
       "    id                                  name  \\\n",
       "0    3          idr0001-graml-sysgro/screenA   \n",
       "1  102  idr0002-heriche-condensation/screenA   \n",
       "2   51     idr0003-breker-plasticity/screenA   \n",
       "\n",
       "                                               title  \\\n",
       "0  A genomic Multiprocess survey of machineries t...   \n",
       "1  Integration of biological data by kernels on g...   \n",
       "2  A novel single-cell screening platform reveals...   \n",
       "\n",
       "                                         description category  \n",
       "0  Primary screen of fission yeast knock out muta...   Screen  \n",
       "1  Screen of 100 candidate genes predicted to be ...   Screen  \n",
       "2  Screen to characterize yeast stress responses ...   Screen  "
      ]
     },
     "execution_count": 6,
     "metadata": {},
     "output_type": "execute_result"
    }
   ],
   "source": [
    "screen_df = pd.DataFrame(\n",
    "    [get_id(x) for x in screen_info[\"data\"]],\n",
    "    columns=[\"id\", \"name\", \"title\", \"description\", \"category\"]\n",
    ")\n",
    "\n",
    "\n",
    "project_df = pd.DataFrame(\n",
    "    [get_id(x) for x in project_info[\"data\"]],\n",
    "    columns=[\"id\", \"name\", \"title\", \"description\", \"category\"]\n",
    ")\n",
    "\n",
    "id_df = pd.concat([screen_df, project_df], axis=\"rows\").reset_index(drop=True)\n",
    "\n",
    "# Output to file\n",
    "output_file = pathlib.Path(output_dir, \"idr_ids.tsv\")\n",
    "id_df.to_csv(output_file, index=False, sep=\"\\t\")\n",
    "\n",
    "print(id_df.shape)\n",
    "id_df.head(3)"
   ]
  }
 ],
 "metadata": {
  "kernelspec": {
   "display_name": "Python 3.10.6 ('microscopy-data')",
   "language": "python",
   "name": "python3"
  },
  "language_info": {
   "codemirror_mode": {
    "name": "ipython",
    "version": 3
   },
   "file_extension": ".py",
   "mimetype": "text/x-python",
   "name": "python",
   "nbconvert_exporter": "python",
   "pygments_lexer": "ipython3",
   "version": "3.10.6"
  },
  "vscode": {
   "interpreter": {
    "hash": "9f4c950018fd5545de3ba7d7ac3b162b0b29b0916ffc3f7a196033f09bddc306"
   }
  }
 },
 "nbformat": 4,
 "nbformat_minor": 5
}
